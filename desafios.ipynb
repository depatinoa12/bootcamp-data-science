{
 "cells": [
  {
   "cell_type": "markdown",
   "metadata": {},
   "source": [
    "\\textbf{Primer desadfio}\n",
    "\n",
    "1.En nuestro trabajo, nos solicitan desarrollar un programa que permita calcular el promedio final de los equipos de futbol en un torneo. ​\n",
    "\n",
    "Para ello, debemos considerar tres aspectos: \n",
    "1. Jugaron 20 partidos durante el torneo, ​\n",
    "\n",
    "2. Los partidos poseen diferente puntaje según el resultado, los partidos ganados 3 puntos, partido empatado 1 punto, partido perdido 0 puntos.​\n",
    "\n",
    "3. El promedio final resulta de la cantidad de puntos totales divididos la cantidad de partidos.\n",
    "\n"
   ]
  },
  {
   "cell_type": "code",
   "execution_count": 1,
   "metadata": {},
   "outputs": [
    {
     "name": "stdout",
     "output_type": "stream",
     "text": [
      "1.75\n"
     ]
    }
   ],
   "source": [
    "partidosGnados=int(input(\"Por favor ingrese la cantidad de partidos ganados:\"))\n",
    "PartidosEmpatados=int(input(\"Por favor ingrese la cantidad de partidos empatados:\"))\n",
    "PartidosPerdidos=int(input(\"Por favor ingrese la canidad de partidos perdidos:\"))\n",
    "\n",
    "PuntosTotales=PartidosEmpatados*1+partidosGnados*3\n",
    "Promedio=PuntosTotales/20\n",
    "print(Promedio)"
   ]
  }
 ],
 "metadata": {
  "kernelspec": {
   "display_name": "Python 3",
   "language": "python",
   "name": "python3"
  },
  "language_info": {
   "codemirror_mode": {
    "name": "ipython",
    "version": 3
   },
   "file_extension": ".py",
   "mimetype": "text/x-python",
   "name": "python",
   "nbconvert_exporter": "python",
   "pygments_lexer": "ipython3",
   "version": "3.10.13"
  }
 },
 "nbformat": 4,
 "nbformat_minor": 2
}
